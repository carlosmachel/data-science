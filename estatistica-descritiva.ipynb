{
 "cells": [
  {
   "cell_type": "markdown",
   "metadata": {},
   "source": [
    "# Estatística Descritiva"
   ]
  },
  {
   "cell_type": "markdown",
   "metadata": {},
   "source": [
    "Uma coisa que pode confundir: Quando se fala em estatística existem duas, vamos chamar aqui de Estatística e estatística. Com a letra e maiuscula é a disciplina e com a letra minúscula é um número que descreve uma característica de um conjunto de dados.\n",
    "\n",
    "Estátistica Descritiva serve para dois propósitos, simplificar e dar sentido ao conjunto de dados."
   ]
  },
  {
   "cell_type": "markdown",
   "metadata": {},
   "source": [
    "## Dados Qualitativos (Categóricos)\n",
    "\n",
    "São dados separados por... adivinhe!! \n",
    "\n",
    "Dados dividos entre orientação política, em cor dos olhos, essas coisas. Pode também ser **ordinal**, ou seja, aquelas perguntas que fazem que é \"concorda\", \"em partes\", \"discorda\" ela tem uma ordem, mas ainda assim não são números. \n",
    "\n",
    "E como você resume um dado qualitativo? Porcentagem!\n",
    "\n",
    "Esses dados podem ser divididos em uma tabela que compara duas variáveis categóricas ao mesmo tempo e realizar comparações entre eles. (Two-way tables or crosstabs). Depois pode ser feito um teste de hipotese para identificar se existe uma relação significativa entre as duas variaveis."
   ]
  },
  {
   "cell_type": "markdown",
   "metadata": {},
   "source": [
    "## Dados Quantitativos\n",
    "\n",
    "Dividido em Contínuo ou Discreto. Dados como altura (contínuo), quantos dedos você tem na mão (discreto).\n",
    "\n",
    "Com esses dados da pra brincar mais, você tem várias formas de sintetizar o conjunto de dados.\n",
    "\n",
    "Perguntas que você pode fazer:\n",
    "\n",
    "- Qual o número mais comum?\n",
    "- Qual o valor que está no meio do conjunto de dados?\n",
    "- Qual a média desse conjunto de dados?\n",
    "\n",
    "### Média\n",
    "\n",
    "Média nada mais é do que a somatória dos valores no conjunto de dados dividido pelo total de valores no conjunto de dados."
   ]
  },
  {
   "cell_type": "code",
   "execution_count": 1,
   "metadata": {
    "collapsed": false
   },
   "outputs": [
    {
     "data": {
      "text/plain": [
       "13.2"
      ]
     },
     "execution_count": 1,
     "metadata": {},
     "output_type": "execute_result"
    }
   ],
   "source": [
    "# Digamos eu tenho um conjunto C com os seguintes elementos C = {5, 10, 15, 20, 25}\n",
    "\n",
    "media = (5 + 1 + 15 + 20 + 25) / 5\n",
    "media"
   ]
  },
  {
   "cell_type": "markdown",
   "metadata": {},
   "source": [
    "Leia wikipedia para saber um pouco mais sobre média. Essa média que expliquei é a Aritmética, existem outras!! \n",
    "\n",
    "E esse calculo foi feito de maneira simples. é apenas a somatória de dados brutos. Tem algumas mudanças básicas no cálculo quando os dados estão numa tabela de frequências.\n",
    "\n",
    "#### Tabela de Frequência dados discretos\n",
    "\n",
    "| Notas | Alunos |\n",
    "|-------|--------|\n",
    "| 1     | 5      |\n",
    "| 2     | 10     |\n",
    "| 3     | 2      |\n",
    "| 4     | 4      |\n",
    "| 5     | 2      |\n",
    "|Total  | 23     |\n",
    "\n",
    "\n",
    "Nesse caso você precisa apenas multiplicar a nota pela quantidade de alunos (no caso é a frequência) para saber qual foi a média da turma. \n"
   ]
  },
  {
   "cell_type": "code",
   "execution_count": 7,
   "metadata": {
    "collapsed": false
   },
   "outputs": [
    {
     "data": {
      "text/plain": [
       "2.4782608695652173"
      ]
     },
     "execution_count": 7,
     "metadata": {},
     "output_type": "execute_result"
    }
   ],
   "source": [
    "media = ((1 * 5) + (2 * 10) + (3 * 2) + (4 * 4) + (5 * 2)) / 23\n",
    "media"
   ]
  },
  {
   "cell_type": "markdown",
   "metadata": {},
   "source": [
    "#### Tabbela de Frequência dados contínuos\n",
    "\n",
    "| Altura      | Alunos |\n",
    "|-------------|--------|\n",
    "| 120 &#124;- 130  | 5      |\n",
    "| 130 &#124;- 140  | 10     |\n",
    "| 140 &#124;- 150  | 2      |\n",
    "| 150 &#124;- 160  | 4      |\n",
    "| 160 &#124;-&#124; 170 | 2      |\n",
    "\n",
    "\n",
    "\n",
    "No caso de uma tabela com dados contínuos, o cálculo muda um pouco. Você primeiro tem que achar o ponto médio, ou seja, a média do intervalo e depois multiplicar pela frequência (no caso os alunos).\n",
    "\n",
    "Sua tabela no final ficaria assim\n",
    "\n",
    "| Altura (cm)               | Caixas |Xi   |\n",
    "|-----------------------|--------|-----|\n",
    "| 120 &#124;- 130       | 5      |(130 + 120)/2 =  125  |\n",
    "| 130 &#124;- 140       | 10     |(140 + 130)/2 =  135 |\n",
    "| 140 &#124;- 150       | 2      |(140 + 150)/2 =  145 |\n",
    "| 150 &#124;- 160       | 4      |(150 + 140)/2 =  155 | \n",
    "| 160 &#124;-&#124; 170 | 2      |(160 + 150)/2 =  165 |\n"
   ]
  },
  {
   "cell_type": "code",
   "execution_count": 10,
   "metadata": {
    "collapsed": false
   },
   "outputs": [
    {
     "data": {
      "text/plain": [
       "139.7826086956522"
      ]
     },
     "execution_count": 10,
     "metadata": {},
     "output_type": "execute_result"
    }
   ],
   "source": [
    "# então minha média vai ser:\n",
    "\n",
    "media = ((125 * 5) + (135 * 10) + (145 * 2) + (155 * 4) + (165 * 2)) / 23\n",
    "media"
   ]
  },
  {
   "cell_type": "markdown",
   "metadata": {},
   "source": [
    "Ok sabemos como calcular a média não importa como te forneçam os dados. \n",
    "\n",
    "\n",
    "Nem sempre a média vai ser a melhor estatística para contar a história dos seus dados. Você pode ter algo chamado valor atípico ou em inglês `outliers`. Nesse caso se diz que a mediana é resistente ao valores atípicos, enquanto que a média não. Apenas a média não diz muito sobre um conjunto de dados. Sabendo da mediana é possível identificar a presença desses valores atípicos.\n",
    "\n",
    "Imagina que você tem os seguintes valores (0, 5, 2, 2, 3, 3, 0, 1, 75). Nesse conjunto o valor 75 se destaca. Vamos calcular a média desse conjunto de dados."
   ]
  },
  {
   "cell_type": "code",
   "execution_count": 3,
   "metadata": {
    "collapsed": false
   },
   "outputs": [
    {
     "data": {
      "text/plain": [
       "(10.11111111111111, 1.7777777777777777)"
      ]
     },
     "execution_count": 3,
     "metadata": {},
     "output_type": "execute_result"
    }
   ],
   "source": [
    "media_com_outlier = (0 + 5 + 2 + 2 + 3 + 3 + 0 + 1 + 75) / 9\n",
    "\n",
    "media_sem_outlier = (0 + 5 + 2 + 2 + 3 + 3 + 0 + 1) / 9\n",
    "media_com_outlier, media_sem_outlier"
   ]
  },
  {
   "cell_type": "markdown",
   "metadata": {},
   "source": [
    "Olha a diferença que um valor deu!\n",
    "\n",
    "### Vamos falar de valor do meio (Mediana)\n",
    "\n",
    "\n",
    "Mediana é o valor que encontra-se no meio do conjunto de dados (depois de ordenado). \n",
    "\n",
    "Como encontrar a mediana é simples. Você precisa ordenar os dados. ai temos uma diferença. \n",
    "\n",
    "total de dados (n) = impar\n",
    "\n",
    "- divide por dois (n / 2) e pronto achou a posição de sua mediana. \n",
    "\n",
    "total de dados (n) = par\n",
    "\n",
    "- Primeira posição (n / 2), \n",
    "- Segunda posição (n / 2 + 1) \n",
    "- Calcular a média desses valores.\n",
    "\n"
   ]
  },
  {
   "cell_type": "markdown",
   "metadata": {},
   "source": [
    "## Obliquidade\n",
    "\n",
    "Obliquidade (em ingles skewness) é a medida de assimetria de uma distribuição de Frequência. \n",
    "\n",
    "A cauda da distribuição. Se você tem uma distribuição que tem a maior quantidade de valores à esquerda e vai diminuindo a quantidade para valores maiores você tem uma \"cauda\" pra direita. O contrário o gráfico apresenta uma cauda para esquerda. \n",
    "\n",
    "Mas o que isso quer dizer. apenas olhando para o gráfico é possivel identificar que quando a cauda é para direita a media é maior que a mediana. \n",
    "\n",
    "Imagina que estejamos falando de salário de uma empresa. A maioria das pessoas da empresa não recebem grandes salários, mas tem um ou dois que recebem muito. Dessa forma a média de salários é puxada para cima então a mediana fica menor que a média. \n"
   ]
  },
  {
   "cell_type": "code",
   "execution_count": 5,
   "metadata": {
    "collapsed": false
   },
   "outputs": [
    {
     "data": {
      "image/png": "[encoded data removed]",
      "text/plain": [
       "<matplotlib.figure.Figure at 0x7f899be2e588>"
      ]
     },
     "metadata": {},
     "output_type": "display_data"
    }
   ],
   "source": [
    "%matplotlib inline\n",
    "\n",
    "import numpy as np\n",
    "import matplotlib.pyplot as plt\n",
    "\n",
    "hist = np.random.normal(10, 0.2, 10000)\n",
    "\n",
    "plt.hist(hist)\n",
    "plt.show()"
   ]
  },
  {
   "cell_type": "markdown",
   "metadata": {
    "collapsed": true
   },
   "source": [
    "## Desvio Padrão\n",
    "\n",
    "Medida que determina quão concentrado os dados estão ao redor da média. Quanto mais concentrado, menor o desvio padrão. \n",
    "\n",
    "$$s = \\sqrt{\\sum_{i=1}^N \\frac{(x_i - \\overline{x})^2}{N-1}}$$\n",
    "\n",
    "Seguindo a fórmula, para calcular o desvio padrão é necessário:\n",
    "    - Calcular a média\n",
    "    - Para cada número do conjunto de dados subtrair a média\n",
    "    - Elevar cada uma dessas diferenças ao quadrado\n",
    "    - Somatória desse resultado.\n",
    "    - Dividir a soma dos quadrados pelo número do conjunto de dados menos 1.\n",
    "    - Raiz quadrada desse resultado.\n",
    "    \n",
    "Algumas observações interessantes. \n",
    "\n",
    "Observação 1: Se você não fizer a raiz quadrada, tem-se a `variancia` do conjunto de dados. É uma outra medida da variação, porém ela não é muito boa para comparar porque ela está ao quadrado. Se você está comparando dinheiro, seria real ao quadrado, o que não faz muito sentido.\n",
    "\n",
    "Observação 2: Subtrai-se 1 do conjunto porque estamos trabalhando com uma amostra da população e dessa forma diminui-se o erro associado. Se fosse a população completa seria apenas N. \n",
    "\n",
    "Observação 3: Porque é necessário elevar cada uma das diferenças ao quadrado? Para evitar números negativos que na somatoria substrairia dos números positivos e não daria para verificar a verdadeira variação dos dados.\n",
    "\n",
    "Exemplo: Seu conjunto de dados é (1,3,5,7). "
   ]
  },
  {
   "cell_type": "code",
   "execution_count": 4,
   "metadata": {
    "collapsed": false
   },
   "outputs": [
    {
     "data": {
      "text/plain": [
       "4.0"
      ]
     },
     "execution_count": 4,
     "metadata": {},
     "output_type": "execute_result"
    }
   ],
   "source": [
    "media = (1 + 3 + 5 + 7)/ 4\n",
    "media"
   ]
  },
  {
   "cell_type": "code",
   "execution_count": 6,
   "metadata": {
    "collapsed": false
   },
   "outputs": [
    {
     "data": {
      "text/plain": [
       "(-3, -1, 1, 3)"
      ]
     },
     "execution_count": 6,
     "metadata": {},
     "output_type": "execute_result"
    }
   ],
   "source": [
    "#Subtraindo a média de cada número fica\n",
    "(1-4),(3-4),(5-4),(7-4)"
   ]
  },
  {
   "cell_type": "markdown",
   "metadata": {},
   "source": [
    "Imagina que você somaria cada um sem elevar ao quadrado. o resultado seria zero. \n",
    "Mas a variação dos dados não é zero. Elevando e fazendo o calculo da formula o desvio padrão é de 2.58. "
   ]
  },
  {
   "cell_type": "code",
   "execution_count": null,
   "metadata": {
    "collapsed": true
   },
   "outputs": [],
   "source": []
  }
 ],
 "metadata": {
  "kernelspec": {
   "display_name": "Python [default]",
   "language": "python",
   "name": "python3"
  },
  "language_info": {
   "codemirror_mode": {
    "name": "ipython",
    "version": 3
   },
   "file_extension": ".py",
   "mimetype": "text/x-python",
   "name": "python",
   "nbconvert_exporter": "python",
   "pygments_lexer": "ipython3",
   "version": "3.5.2"
  },
  "nikola": {
   "category": "",
   "date": "2016-10-25 14:16:53 UTC-02:00",
   "description": "",
   "link": "",
   "slug": "estatistica-descritiva",
   "tags": "",
   "title": "Estatística Descritiva",
   "type": "text"
  }
 },
 "nbformat": 4,
 "nbformat_minor": 1
}
