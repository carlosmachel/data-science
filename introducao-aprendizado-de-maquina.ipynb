{
 "cells": [
  {
   "cell_type": "markdown",
   "metadata": {},
   "source": [
    "Estudos do livro do Sebastian Raschka. o repositorio oficial do livro pra quem tem interesse está em: https://github.com/rasbt/python-machine-learning-book"
   ]
  },
  {
   "cell_type": "markdown",
   "metadata": {},
   "source": [
    "# Três tipos de aprendizados de máquina"
   ]
  },
  {
   "cell_type": "markdown",
   "metadata": {},
   "source": [
    "## Supervisionado\n",
    "\n",
    "O termo supervisionado indica que esse tipo de aprendizado existem exemplos que são conhecidos e foram rotulados por especialistas. O modelo é desenvolvido a partir desses exemplos conhecidos.\n",
    "\n",
    "Um exemplo seria o spam de email que um especialista em segurança pode levantar as características em que o email é spam e selecionar alguns emails de exemplo separando em spams e não spams. \n",
    "\n",
    "Depois o algoritmo vai tentar **classificar** os emails que chegarem como spam ou não. \n",
    "\n",
    "Quando os rótulos na verdade são valores contínuos, é utilizado um outro tipo de aprendizado supervisionado denominado **regressão**\n",
    "\n",
    "### Classificação\n",
    "\n",
    "### Regressão"
   ]
  },
  {
   "cell_type": "markdown",
   "metadata": {},
   "source": [
    "## Não supervisionado\n",
    "\n",
    "Descobrindo grupos escondidos.\n",
    "\n",
    "Encontrando subgrupos com clustering:\n",
    "\n",
    "Clustering: analise exploratória que permite organizar uma pilha de informações em subgrupos pela semelhança. Sem ter nenhum conhecimento prévio de agrupamentos. \n",
    "\n",
    "redução de dimensão (dimensionality reduction): Muito utilizado na fase de pré-processamento para reduzir o **ruído** nos dados, comprimindo a informação e mantendo o que for relevante."
   ]
  },
  {
   "cell_type": "markdown",
   "metadata": {},
   "source": [
    "## Por reforço\n",
    "\n",
    "O objetivo é desenvolver um agente que melhora sua performance baseado em interações com o **ambiente**. Envolve um esquema de **recompensa** que vai dizer se a interação foi boa ou não.\n",
    "\n",
    "Algoritmo Genético??"
   ]
  },
  {
   "cell_type": "markdown",
   "metadata": {},
   "source": [
    "----"
   ]
  },
  {
   "cell_type": "markdown",
   "metadata": {},
   "source": [
    "# Roteiro para construir um sistema em AM para modelo preditivo"
   ]
  },
  {
   "cell_type": "markdown",
   "metadata": {},
   "source": [
    "- Preprocessamento: Nesse ponto que ocorre a separação do conjunto de dados em treinamento e de teste.\n",
    "    - Extraindo os atributos e escalonando (normalizando)\n",
    "    - Seleção dos atributos\n",
    "    - Redução da dimensão\n",
    "    - Amostragem  \n",
    "\n",
    "\n",
    "    \n",
    "- Aprendizado:\n",
    "    - Seleção do modelo\n",
    "    - Validação Cruzada (Cross-Validation)\n",
    "    - Métrica de perfomance\n",
    "    - Otimização (Hyperparameter Optimization)\n",
    "\n",
    "- Avaliação:\n",
    "\n",
    "- Predição:"
   ]
  },
  {
   "cell_type": "code",
   "execution_count": null,
   "metadata": {
    "collapsed": true
   },
   "outputs": [],
   "source": []
  }
 ],
 "metadata": {
  "anaconda-cloud": {},
  "kernelspec": {
   "display_name": "Python [default]",
   "language": "python",
   "name": "python3"
  },
  "language_info": {
   "codemirror_mode": {
    "name": "ipython",
    "version": 3
   },
   "file_extension": ".py",
   "mimetype": "text/x-python",
   "name": "python",
   "nbconvert_exporter": "python",
   "pygments_lexer": "ipython3",
   "version": "3.5.2"
  }
 },
 "nbformat": 4,
 "nbformat_minor": 2
}
