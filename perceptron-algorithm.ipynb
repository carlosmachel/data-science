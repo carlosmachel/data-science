{
 "cells": [
  {
   "cell_type": "markdown",
   "metadata": {},
   "source": [
    "Estudo do livro Python Machine Learning de Sebastian Raschka"
   ]
  },
  {
   "cell_type": "markdown",
   "metadata": {},
   "source": [
    "# Perceptron Algorithm\n",
    "\n",
    "Algumas fórmulas importantes.\n",
    "\n",
    "net input: $ z = w_1  x_1 + ... + w_m  x_m $\n",
    "\n",
    "que pode ser reescrita como $ z = w_0 x_0 + w_1 x_1 + ... + w_m x_m = w^T x $\n",
    "\n",
    "activation function: $ \\phi(z) $"
   ]
  },
  {
   "cell_type": "code",
   "execution_count": 11,
   "metadata": {
    "collapsed": true
   },
   "outputs": [],
   "source": [
    "import numpy as np"
   ]
  },
  {
   "cell_type": "code",
   "execution_count": 3,
   "metadata": {
    "collapsed": true
   },
   "outputs": [],
   "source": [
    "class Perceptron(object):\n",
    "    \"\"\"Perceptron Classifier.\n",
    "    \n",
    "    Parameters\n",
    "    ----------\n",
    "    eta: float\n",
    "        Learning rate(between 0.0 and 1.0).\n",
    "    n_iter: int\n",
    "        Passes over the training dataset.\n",
    "    \n",
    "    Attributes\n",
    "    ----------\n",
    "    w_ : 1d-array\n",
    "        Weights after fitting.\n",
    "    errors_ : list\n",
    "        Number of misclassifications in every epoch.\n",
    "        \n",
    "    \"\"\"\n",
    "    \n",
    "    def __init__(self, eta=0.01, n_iter=10):\n",
    "        self.eta = eta\n",
    "        self.n_iter = n_iter\n",
    "    \n",
    "    def fit(self, X, y):\n",
    "        \"\"\"Fit training data.\n",
    "        \n",
    "        Parameters\n",
    "        ----------\n",
    "        X: {array-like}, shape = [n_samples, n_features]\n",
    "            Training vectors, where \n",
    "            n_samples is the number of samples and \n",
    "            n_features is the number of features.\n",
    "            \n",
    "        y: array-like, shape = [n_samples]\n",
    "            Target values.\n",
    "        \n",
    "        Returns\n",
    "        -------\n",
    "        self: object\n",
    "        \n",
    "        \"\"\"\n",
    "        self.w_ = np.zeros(1 + X.shape[1])\n",
    "        self.errors_ = []\n",
    "        \n",
    "        for _ in range(self.n_iter):\n",
    "            errors = 0\n",
    "            for xi, target in zip(X,y):\n",
    "                update = self.eta * (target - self.predict(xi))\n",
    "                self.w_[1:] += update * xi #update the delta wm com n(yi - outputi) * xi\n",
    "                self.w_[0] += update # update the delta w0 com n(yi - outputi)\n",
    "                errors += int(update != 0.0)\n",
    "            self.errors_.append(errors)\n",
    "        return self\n",
    "    \n",
    "    def net_input(self, X):\n",
    "        \"\"\"Calculate net input\"\"\"\n",
    "        \n",
    "        return np.dot(X, self.w_[1:]) + self.w_[0]\n",
    "\n",
    "    def predict(self, X):\n",
    "        \"\"\"Return class label after unit step\"\"\"\n",
    "        return np.where(self.net_input(X) >= 0.0, 1, -1)"
   ]
  },
  {
   "cell_type": "markdown",
   "metadata": {},
   "source": [
    "Explicando por parte. \n",
    "\n",
    "- método **predict**. \n",
    "\n",
    "Chama o método `net_input` e passa o array. Se o valor retornado é superior ou igual a 0.0 (o **limite** ou em inglês **threshold**) a classe é classificada como **1**, senão ela é classificada como **-1**.\n",
    "\n",
    "Podendo ser escrito matemáticamente como:\n",
    "\n",
    "$$   \n",
    "\\phi(z) =\n",
    "    \\begin{cases}\n",
    "      +1&,  \\text{se z >= 0.0} \\\\\n",
    "     -1&, \\text{caso contrário}\n",
    "    \\end{cases}\n",
    "$$"
   ]
  },
  {
   "cell_type": "markdown",
   "metadata": {},
   "source": [
    "- método **net_input**\n",
    "\n",
    "Faz a multiplicação de matriz do vetor de treinamento **X** com os pesos estipulados. Como o vetor de treinamento não tem o equivalente à $ x_0 w_0 $ e considerando que $ x_0 = 1 $ então só é contado o peso $ w_0 $. "
   ]
  },
  {
   "cell_type": "markdown",
   "metadata": {},
   "source": [
    "método **fit**"
   ]
  },
  {
   "cell_type": "markdown",
   "metadata": {},
   "source": [
    "Obs.: Dúvidas sobre como escrever alguns desses códigos em latex segue uma referência que achei a melhor até agora http://meta.math.stackexchange.com/questions/5020/mathjax-basic-tutorial-and-quick-reference\n",
    "\n",
    "Letras gregas \n",
    "http://web.ift.uib.no/Teori/KURS/WRK/TeX/sym1.html"
   ]
  },
  {
   "cell_type": "code",
   "execution_count": null,
   "metadata": {
    "collapsed": false
   },
   "outputs": [],
   "source": []
  },
  {
   "cell_type": "code",
   "execution_count": null,
   "metadata": {
    "collapsed": true
   },
   "outputs": [],
   "source": []
  }
 ],
 "metadata": {
  "anaconda-cloud": {},
  "kernelspec": {
   "display_name": "Python [default]",
   "language": "python",
   "name": "python3"
  },
  "language_info": {
   "codemirror_mode": {
    "name": "ipython",
    "version": 3
   },
   "file_extension": ".py",
   "mimetype": "text/x-python",
   "name": "python",
   "nbconvert_exporter": "python",
   "pygments_lexer": "ipython3",
   "version": "3.5.2"
  }
 },
 "nbformat": 4,
 "nbformat_minor": 2
}
